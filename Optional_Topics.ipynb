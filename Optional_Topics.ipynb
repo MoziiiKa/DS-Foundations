{
 "cells": [
  {
   "cell_type": "markdown",
   "id": "73c7b238-c61b-425b-871d-216738efce50",
   "metadata": {},
   "source": [
    "# **Optional Topics**"
   ]
  },
  {
   "cell_type": "markdown",
   "id": "4f4e03c0-5693-4e73-81e8-6691bb04f9f8",
   "metadata": {},
   "source": [
    "# 1. Eigenvectors and Eigenvalues\n",
    "\n",
    "**Exercise**: Implement a Python function that takes a square matrix as input and returns its eigenvalues and eigenvectors. Use this function to analyze the eigenvalues and eigenvectors of a symmetric matrix and a non-symmetric matrix. Discuss the differences in your findings."
   ]
  },
  {
   "cell_type": "code",
   "execution_count": null,
   "id": "7e626cb5-8ab0-4c5b-8c22-f4ec51745ab4",
   "metadata": {},
   "outputs": [],
   "source": [
    "import numpy as np\n",
    "\n",
    "def find_eigens(matrix):\n",
    "    eigenvalues, eigenvectors = np.linalg.eig(matrix)\n",
    "    return eigenvalues, eigenvectors\n",
    "\n",
    "# Example matrices\n",
    "symmetric_matrix = np.array([[4, 1], [1, 4]])\n",
    "nonsymmetric_matrix = np.array([[0, 1], [-2, -3]])\n",
    "\n",
    "# Calculate eigenvalues and eigenvectors for the symmetric matrix\n",
    "sym_eigenvalues, sym_eigenvectors = find_eigens(symmetric_matrix)\n",
    "print(\"Symmetric Matrix Eigenvalues:\", sym_eigenvalues)\n",
    "print(\"Symmetric Matrix Eigenvectors:\\n\", sym_eigenvectors)\n",
    "\n",
    "# Calculate eigenvalues and eigenvectors for the non-symmetric matrix\n",
    "nonsym_eigenvalues, nonsym_eigenvectors = find_eigens(nonsymmetric_matrix)\n",
    "print(\"Non-Symmetric Matrix Eigenvalues:\", nonsym_eigenvalues)\n",
    "print(\"Non-Symmetric Matrix Eigenvectors:\\n\", nonsym_eigenvectors)"
   ]
  },
  {
   "cell_type": "markdown",
   "id": "ab487d31-2073-4579-9bce-e1d7b271b7c3",
   "metadata": {},
   "source": [
    "## Discussion\n",
    "\n",
    "- **Symmetric Matrices**: For symmetric matrices, eigenvalues are always real, and eigenvectors are orthogonal. This means that the eigenvectors can be thought of as defining a new coordinate system where the matrix acts simply by stretching or compressing.\n",
    "- **Non-Symmetric Matrices**: For non-symmetric matrices, eigenvalues can be complex, and eigenvectors are not necessarily orthogonal. The interpretation of eigenvalues and eigenvectors in this case can be more nuanced, often relating to the system's stability (in dynamical systems) or other properties depending on the context.\n",
    "- **General Observations**:\n",
    "    - **Eigenvalues** tell us about the scaling factor applied along the directions defined by their corresponding eigenvectors.\n",
    "    - **Eigenvectors** indicate directions in the space that are invariant under the application of the matrix. For symmetric matrices, these directions are perpendicular to each other, while for non-symmetric matrices, they may not be."
   ]
  },
  {
   "cell_type": "markdown",
   "id": "080ee551-aded-4b48-bf7f-4ce44e5f36cb",
   "metadata": {},
   "source": [
    "---------------"
   ]
  },
  {
   "attachments": {
    "1fe7c61f-762a-4998-8987-5597055acc49.png": {
     "image/png": "[encoded data removed]"
    },
    "ffdfb2f4-3eb9-4e69-9323-b298ab4090ac.png": {
     "image/png": "[encoded data removed]"
    }
   },
   "cell_type": "markdown",
   "id": "fc0f508f-7f57-4e12-83dd-1cd31e5a3c3e",
   "metadata": {},
   "source": [
    "# 2. Spaces\n",
    "\n",
    "**Exercise**: Demonstrate the concept of vector spaces by showing examples of addition and scalar multiplication. Define two vectors in ![image.png](attachment:ffdfb2f4-3eb9-4e69-9323-b298ab4090ac.png) and show that their sum and any scalar multiple of them also belong to ![image.png](attachment:1fe7c61f-762a-4998-8987-5597055acc49.png)."
   ]
  },
  {
   "cell_type": "code",
   "execution_count": null,
   "id": "acec5b76-02d3-4652-87b9-e0dfe687fc1c",
   "metadata": {},
   "outputs": [],
   "source": [
    "import numpy as np\n",
    "import matplotlib.pyplot as plt\n",
    "\n",
    "# Define two vectors in R^2\n",
    "vector1 = np.array([1, 2])\n",
    "vector2 = np.array([3, 4])\n",
    "scalar = 2\n",
    "\n",
    "# Perform vector addition\n",
    "vector_addition = vector1 + vector2\n",
    "\n",
    "# Perform scalar multiplication\n",
    "scalar_multiplication1 = scalar * vector1\n",
    "scalar_multiplication2 = scalar * vector2\n",
    "\n",
    "# Plotting the vectors to visualize the operations\n",
    "plt.figure(figsize=(8, 6))\n",
    "\n",
    "# Original vectors\n",
    "plt.quiver(0, 0, vector1[0], vector1[1], angles='xy', scale_units='xy', scale=1, color='r', label='Vector 1')\n",
    "plt.quiver(0, 0, vector2[0], vector2[1], angles='xy', scale_units='xy', scale=1, color='g', label='Vector 2')\n",
    "\n",
    "# Vector addition\n",
    "plt.quiver(0, 0, vector_addition[0], vector_addition[1], angles='xy', scale_units='xy', scale=1, color='b', label='Vector 1 + Vector 2')\n",
    "\n",
    "# Scalar multiplication (using alpha for visual distinction)\n",
    "plt.quiver(0, 0, scalar_multiplication1[0], scalar_multiplication1[1], angles='xy', scale_units='xy', scale=1, color='r', alpha=0.5, label=f'{scalar} * Vector 1')\n",
    "plt.quiver(0, 0, scalar_multiplication2[0], scalar_multiplication2[1], angles='xy', scale_units='xy', scale=1, color='g', alpha=0.5, label=f'{scalar} * Vector 2')\n",
    "\n",
    "plt.xlim(-1, max(vector_addition[0], scalar_multiplication1[0], scalar_multiplication2[0]) + 1)\n",
    "plt.ylim(-1, max(vector_addition[1], scalar_multiplication1[1], scalar_multiplication2[1]) + 1)\n",
    "plt.axhline(0, color='black', linewidth=0.5)\n",
    "plt.axvline(0, color='black', linewidth=0.5)\n",
    "plt.grid(color='gray', linestyle='--', linewidth=0.5)\n",
    "plt.legend()\n",
    "plt.title('Vector Addition and Scalar Multiplication')\n",
    "plt.xlabel('X-axis')\n",
    "plt.ylabel('Y-axis')\n",
    "plt.show()"
   ]
  },
  {
   "attachments": {
    "6c1933d3-05c2-4a9c-bb9a-741b1dcea781.png": {
     "image/png": "[encoded data removed]"
    },
    "7ddaf8f1-a5f3-49c2-8c2f-3e43f2944679.png": {
     "image/png": "[encoded data removed]"
    },
    "c098c35b-1ebf-4d3a-980f-4c036e1bea43.png": {
     "image/png": "[encoded data removed]"
    },
    "c81401a2-f429-4a26-86a7-a6b56e268a5f.png": {
     "image/png": "[encoded data removed]"
    }
   },
   "cell_type": "markdown",
   "id": "78f5040e-5b6e-47cd-86da-e09dc105ccb0",
   "metadata": {},
   "source": [
    "### **Discussion**\n",
    "\n",
    "- **Vector Addition**: The sum of **`vector1`** and **`vector2`** is plotted in blue. This demonstrates that adding two vectors in ![image.png](attachment:7ddaf8f1-a5f3-49c2-8c2f-3e43f2944679.png) results in another vector in ![image.png](attachment:6c1933d3-05c2-4a9c-bb9a-741b1dcea781.png).\n",
    "- **Scalar Multiplication**: The scalar multiples of **`vector1`** and **`vector2`** are shown with dotted lines. Multiplying a vector by a scalar enlarges or shrinks the vector but keeps it in the same direction (or the opposite direction if the scalar is negative), showing that the result is still a vector in ![image.png](attachment:c098c35b-1ebf-4d3a-980f-4c036e1bea43.png).\n",
    "- **Visual Representation**: The plot visually confirms that both vector addition and scalar multiplication result in vectors that belong to the same space (![image.png](attachment:c81401a2-f429-4a26-86a7-a6b56e268a5f.png) in this case), illustrating the closed nature of vector spaces under these operations."
   ]
  },
  {
   "cell_type": "markdown",
   "id": "50b8aaa8-d18b-47d1-ad72-ba45e0620960",
   "metadata": {},
   "source": [
    "----------"
   ]
  },
  {
   "cell_type": "markdown",
   "id": "a03f7bf1-2076-4632-8912-c6cb500dc691",
   "metadata": {},
   "source": [
    "# 3. Convexity\n",
    "\n",
    "**Exercise**: Write a function to determine if a set of points forms a convex polygon. Plot the points and the polygon formed by them. Use this to show examples of convex and non-convex sets."
   ]
  },
  {
   "cell_type": "code",
   "execution_count": null,
   "id": "976124ac-0bd8-4407-8b95-e8ccf564a4cc",
   "metadata": {},
   "outputs": [],
   "source": [
    "import numpy as np\n",
    "import matplotlib.pyplot as plt\n",
    "from scipy.spatial import ConvexHull\n",
    "\n",
    "def is_convex(points):\n",
    "    hull = ConvexHull(points)\n",
    "    return len(points) == len(hull.vertices)\n",
    "\n",
    "def plot_points_and_hull(points, is_convex):\n",
    "    hull = ConvexHull(points)\n",
    "    plt.plot(points[:, 0], points[:, 1], 'o')\n",
    "    for simplex in hull.simplices:\n",
    "        plt.plot(points[simplex, 0], points[simplex, 1], 'k-')\n",
    "    \n",
    "    # Label the plot based on convexity\n",
    "    plt.title(f\"Convex: {is_convex}\")\n",
    "\n",
    "\n",
    "# Example points for a convex set\n",
    "convex_points = np.array([[0, 0], [2, 0], [2, 2], [0, 2]])\n",
    "plt.figure(figsize=(12, 6))\n",
    "plt.subplot(1, 2, 1)\n",
    "plot_points_and_hull(convex_points, is_convex(convex_points))\n",
    "\n",
    "# Example points for a non-convex set (concave)\n",
    "non_convex_points = np.array([[0, 0], [2, 0], [2, 2], [1, 1], [0, 2]])\n",
    "plt.subplot(1, 2, 2)\n",
    "plot_points_and_hull(non_convex_points, is_convex(non_convex_points))\n",
    "\n",
    "plt.show()"
   ]
  },
  {
   "cell_type": "markdown",
   "id": "995394e8-0f57-4602-b5e2-637364264323",
   "metadata": {},
   "source": [
    "## Explanation\n",
    "\n",
    "- **Function `is_convex`**: This function uses **`ConvexHull`** to determine if the provided set of points forms a convex polygon by comparing the number of points in the input with the number of vertices in the convex hull. If these numbers are equal, the set is convex; otherwise, it's non-convex.\n",
    "- **Function `plot_points_and_hull`**: This function plots the given points and the convex hull formed by them. It uses **`hull.simplices`** to get the edges of the convex hull and plots lines accordingly. The plot is labeled based on whether the set is convex.\n",
    "- **Example Points**: We define two sets of points:\n",
    "    - **`convex_points`** forms a square, a convex shape, since all points are vertices of the hull.\n",
    "    - **`non_convex_points`** includes a point inside the square, making the shape non-convex, as not all points are vertices of the hull.\n",
    "- **Visualization**: The plots visually demonstrate the concept of convexity. For the convex set, you see a square. For the non-convex set, the convex hull does not include the inner point, indicating the shape is not convex as defined by our function."
   ]
  },
  {
   "cell_type": "markdown",
   "id": "dec0d115-c9c2-4b45-a187-981a2611dac8",
   "metadata": {},
   "source": [
    "---------"
   ]
  },
  {
   "cell_type": "markdown",
   "id": "2469d5b0-66fc-4a05-94d1-40e5704cf4d0",
   "metadata": {},
   "source": [
    "# 4. Bayes' Theorem\n",
    "\n",
    "**Exercise**: Implement Bayes' theorem to calculate the probability of an event given prior knowledge. For instance, calculate the probability of having a disease given a positive test result, using hypothetical probabilities for the test accuracy and disease prevalence.\n",
    "\n",
    "Let's calculate the probability of having a disease given a positive test result. We'll define hypothetical probabilities for test accuracy and disease prevalence to demonstrate this calculation.\n",
    "\n",
    "We'll use the following hypothetical values:\n",
    "\n",
    "- The prior probability of having the disease (***P(Disease)***) is ***0.01*** (***1%*** of the population has the disease).\n",
    "    \n",
    "- The likelihood of testing positive given the disease (***P(Positive∣Disease)***) is ***0.95*** (the test correctly identifies ***95%*** of those with the disease).\n",
    "       \n",
    "- The probability of testing positive given no disease (***P(Positive∣No Disease)***) is ***0.05*** (the test incorrectly identifies ***5%*** of healthy individuals as having the disease). \n",
    "\n",
    "First, we need to calculate the evidence ***P(Positive)***, which is the total probability of testing positive, whether or not the person has the disease. This can be calculated as:\n",
    "\n",
    "***P(Positive)*** = ***P(Positive∣Disease)*** × ***P(Disease)*** + ***P(Positive∣No Disease)*** × ***P(No Disease)***\n",
    "\n",
    "Then, we can apply Bayes' theorem to find ***P(Disease∣Positive)***."
   ]
  },
  {
   "cell_type": "code",
   "execution_count": null,
   "id": "0837781c-7c21-4045-bd67-ab34e0715183",
   "metadata": {},
   "outputs": [],
   "source": [
    "def bayes_theorem(prior, likelihood, false_positive_rate, population_rate):\n",
    "    # Calculate P(Positive)\n",
    "    evidence = likelihood * prior + false_positive_rate * (1 - prior)\n",
    "    # Apply Bayes' Theorem\n",
    "    posterior = (likelihood * prior) / evidence\n",
    "    return posterior\n",
    "\n",
    "# Hypothetical probabilities\n",
    "prior_probability = 0.01  # P(Disease)\n",
    "likelihood_positive_given_disease = 0.95  # P(Positive | Disease)\n",
    "false_positive_rate = 0.05  # P(Positive | No Disease)\n",
    "population_rate = 0.01  # Not directly used in this calculation, mentioned for clarity\n",
    "\n",
    "# Calculate the probability of having the disease given a positive test result\n",
    "probability_disease_given_positive = bayes_theorem(prior_probability, likelihood_positive_given_disease, false_positive_rate, population_rate)\n",
    "\n",
    "print(f\"The probability of having the disease given a positive test result is: {probability_disease_given_positive:.2f}\")"
   ]
  },
  {
   "cell_type": "markdown",
   "id": "f4dd64fb-9093-49a5-8f23-4c47fc0a4c88",
   "metadata": {},
   "source": [
    "----------"
   ]
  },
  {
   "cell_type": "markdown",
   "id": "8c608cbd-d123-48ea-a7c2-4fb5c7635189",
   "metadata": {},
   "source": [
    "# 5. Covariance\n",
    "\n",
    "**Exercise**: Calculate the covariance between two datasets. Generate two sets of random data that are positively correlated, and another set that is negatively correlated. Calculate and interpret the covariance of these datasets.\n",
    "\n",
    "On calculating the covariance between two datasets, we will:\n",
    "1. Generate two sets of random data that are positively correlated.\n",
    "2. Generate another set of data that is negatively correlated with one of the previous sets.\n",
    "3. Use the provided **`calculate_covariance`** function to calculate and interpret the covariance of these datasets."
   ]
  },
  {
   "cell_type": "code",
   "execution_count": null,
   "id": "a74a7e21-020d-4bcb-8329-66b025d0bf5e",
   "metadata": {},
   "outputs": [],
   "source": [
    "import numpy as np\n",
    "import matplotlib.pyplot as plt\n",
    "\n",
    "def calculate_covariance(x, y):\n",
    "    return np.cov(x, y)[0][1]\n",
    "\n",
    "# Generate a set of random data for X\n",
    "np.random.seed(0)  # Ensure reproducibility\n",
    "x = np.random.rand(100) * 100\n",
    "\n",
    "# Generate a positively correlated set of data for Y\n",
    "y_positively_correlated = x * 0.5 + (np.random.rand(100) * 10)\n",
    "\n",
    "# Generate a negatively correlated set of data for Y\n",
    "y_negatively_correlated = -x * 0.5 + (100 + np.random.rand(100) * 10)\n",
    "\n",
    "# Calculate covariance for the positively correlated datasets\n",
    "cov_pos = calculate_covariance(x, y_positively_correlated)\n",
    "\n",
    "# Calculate covariance for the negatively correlated datasets\n",
    "cov_neg = calculate_covariance(x, y_negatively_correlated)\n",
    "\n",
    "# Output the covariance values\n",
    "print(f\"Covariance of the positively correlated datasets: {cov_pos}\")\n",
    "print(f\"Covariance of the negatively correlated datasets: {cov_neg}\")\n",
    "\n",
    "# Plotting to visualize\n",
    "plt.figure(figsize=(14, 6))\n",
    "\n",
    "# Positively correlated datasets\n",
    "plt.subplot(1, 2, 1)\n",
    "plt.scatter(x, y_positively_correlated, color='blue')\n",
    "plt.title('Positively Correlated Datasets')\n",
    "plt.xlabel('X')\n",
    "plt.ylabel('Y')\n",
    "plt.grid(True)\n",
    "\n",
    "# Negatively correlated datasets\n",
    "plt.subplot(1, 2, 2)\n",
    "plt.scatter(x, y_negatively_correlated, color='red')\n",
    "plt.title('Negatively Correlated Datasets')\n",
    "plt.xlabel('X')\n",
    "plt.ylabel('Y')\n",
    "plt.grid(True)\n",
    "\n",
    "plt.tight_layout()\n",
    "plt.show()"
   ]
  },
  {
   "cell_type": "markdown",
   "id": "e85cb07d-be75-4eba-baf5-e9b89b7fb339",
   "metadata": {},
   "source": [
    "## Explanation:\n",
    "\n",
    "- **Covariance Calculation**: The **`calculate_covariance`** function computes the covariance between two arrays, **`x`** and **`y`**. A positive value of covariance indicates a positive relationship between the variables, whereas a negative value indicates a negative relationship.\n",
    "- **Data Generation**:\n",
    "    - For positively correlated data, **`y_positively_correlated`** is generated as a function of **`x`** with a positive slope and some random noise added to introduce variability.\n",
    "    - For negatively correlated data, **`y_negatively_correlated`** is generated as a function of **`x`** with a negative slope, plus a constant and some random noise, to ensure the values are spread out and negatively related to **`x`**.\n",
    "- **Visualization**: The scatter plots provide a visual representation of the correlation between the datasets. The positively correlated dataset shows an upward trend as **`x`** increases, **`y`** also increases. Conversely, the negatively correlated dataset shows a downward trend.\n",
    "- **Covariance Interpretation**:\n",
    "    - A positive covariance value for the positively correlated dataset confirms the positive linear relationship between **`x`** and **`y`**.\n",
    "    - A negative covariance value for the negatively correlated dataset confirms the inverse relationship between **`x`** and **`y`**."
   ]
  },
  {
   "cell_type": "markdown",
   "id": "7dcb4bd8-6f3d-468f-8d84-37e7d6c53351",
   "metadata": {},
   "source": [
    "---------------"
   ]
  },
  {
   "cell_type": "markdown",
   "id": "9ac34874-cd8c-4c92-8e4f-db852e81db9d",
   "metadata": {},
   "source": [
    "# 6. Correlation\n",
    "\n",
    "**Exercise**: Similar to the covariance exercise, but calculate the Pearson correlation coefficient. Discuss the difference in interpretation between covariance and correlation.\n",
    "\n",
    "On calculating the Pearson correlation coefficient, we will use the same datasets from the covariance exercise to calculate and interpret the correlation. This will help demonstrate the difference in interpretation between covariance and correlation."
   ]
  },
  {
   "cell_type": "code",
   "execution_count": null,
   "id": "6fa827b8-6723-4273-ad7f-c0fb6ad6ef99",
   "metadata": {},
   "outputs": [],
   "source": [
    "import numpy as np\n",
    "import matplotlib.pyplot as plt\n",
    "\n",
    "def calculate_correlation(x, y):\n",
    "    return np.corrcoef(x, y)[0, 1]\n",
    "\n",
    "# Assuming x, y_positively_correlated, and y_negatively_correlated are defined as before\n",
    "# Generate the same sets of random data for consistency\n",
    "np.random.seed(0)  # Ensure reproducibility\n",
    "x = np.random.rand(100) * 100\n",
    "y_positively_correlated = x * 0.5 + (np.random.rand(100) * 10)\n",
    "y_negatively_correlated = -x * 0.5 + (100 + np.random.rand(100) * 10)\n",
    "\n",
    "# Calculate correlation for the positively correlated datasets\n",
    "corr_pos = calculate_correlation(x, y_positively_correlated)\n",
    "\n",
    "# Calculate correlation for the negatively correlated datasets\n",
    "corr_neg = calculate_correlation(x, y_negatively_correlated)\n",
    "\n",
    "# Output the correlation values\n",
    "print(f\"Correlation of the positively correlated datasets: {corr_pos}\")\n",
    "print(f\"Correlation of the negatively correlated datasets: {corr_neg}\")\n",
    "\n",
    "# Plotting to visualize\n",
    "plt.figure(figsize=(14, 6))\n",
    "\n",
    "# Positively correlated datasets\n",
    "plt.subplot(1, 2, 1)\n",
    "plt.scatter(x, y_positively_correlated, color='blue')\n",
    "plt.title(f'Positively Correlated Datasets\\nCorrelation: {corr_pos:.2f}')\n",
    "plt.xlabel('X')\n",
    "plt.ylabel('Y')\n",
    "plt.grid(True)\n",
    "\n",
    "# Negatively correlated datasets\n",
    "plt.subplot(1, 2, 2)\n",
    "plt.scatter(x, y_negatively_correlated, color='red')\n",
    "plt.title(f'Negatively Correlated Datasets\\nCorrelation: {corr_neg:.2f}')\n",
    "plt.xlabel('X')\n",
    "plt.ylabel('Y')\n",
    "plt.grid(True)\n",
    "\n",
    "plt.tight_layout()\n",
    "plt.show()"
   ]
  },
  {
   "cell_type": "markdown",
   "id": "d7b24fe5-c48c-421b-a645-2b92ad2947eb",
   "metadata": {},
   "source": [
    "## Explanation\n",
    "\n",
    "- **Correlation Calculation**: The **`calculate_correlation`** function computes the Pearson correlation coefficient between two arrays, **`x`** and **`y`**, which measures the linear relationship between the variables. The coefficient ranges from -1 (perfect negative linear relationship) to 1 (perfect positive linear relationship), with 0 indicating no linear relationship.\n",
    "- **Visualization**: The scatter plots visually demonstrate the linear relationship between the datasets, with titles indicating the calculated correlation coefficient for each.\n",
    "- **Difference in Interpretation**:\n",
    "    - **Covariance** provides a measure of the direction of the relationship between two variables but does not indicate the strength of the relationship nor is it normalized, meaning its value depends on the scales of the variables.\n",
    "    - **Correlation**, on the other hand, is dimensionless and normalized to the range [-1, 1], providing both the direction and the strength of the linear relationship between two variables.\n",
    "- **Interpretation**:\n",
    "    - The positive correlation value for the first dataset indicates a strong positive linear relationship between **`x`** and **`y`**.\n",
    "    - The negative correlation value for the second dataset indicates a strong negative linear relationship."
   ]
  }
 ],
 "metadata": {
  "kernelspec": {
   "display_name": "Python 3 (ipykernel)",
   "language": "python",
   "name": "python3"
  },
  "language_info": {
   "codemirror_mode": {
    "name": "ipython",
    "version": 3
   },
   "file_extension": ".py",
   "mimetype": "text/x-python",
   "name": "python",
   "nbconvert_exporter": "python",
   "pygments_lexer": "ipython3",
   "version": "3.11.5"
  }
 },
 "nbformat": 4,
 "nbformat_minor": 5
}
