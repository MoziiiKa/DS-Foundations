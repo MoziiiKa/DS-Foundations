{
 "cells": [
  {
   "cell_type": "markdown",
   "id": "1c38e899-f967-49be-9392-c54747c1f8ec",
   "metadata": {},
   "source": [
    "# **Linear Algebra**"
   ]
  },
  {
   "cell_type": "markdown",
   "id": "8a80acdc-79e4-4a9e-b4ce-a7cc7e0f50bd",
   "metadata": {},
   "source": [
    "# 1. Vectors in Computer Vision\n",
    "\n",
    "## Understand the Concept\n",
    "\n",
    "In computer vision, images can be represented as arrays of pixel values. For grayscale images, each pixel value ranges from 0 to 255, where 0 is black, 255 is white, and values in between represent shades of gray. A 3x3 grayscale image can thus be represented as a 3x3 matrix, where each entry in the matrix corresponds to the intensity of a pixel.\n",
    "\n",
    "## Represent a 3x3 Image as a Vector\n",
    "\n",
    "To simplify and work with this image in linear algebra operations, we can flatten this 3x3 matrix into a 9-dimensional vector. Each element of this vector represents the pixel value at a corresponding position in the image. Each element of the vector corresponds to the intensity of a pixel in the image, providing a compact and efficient way to work with image data in computer vision tasks. This vector representation is particularly useful in computer vision tasks where we might need to perform operations on the entire image as a single entity or input it into a machine learning model.\n",
    "\n",
    "## Create a Vector in Python\n",
    "\n",
    "Let's create a vector representing a simple 3x3 grayscale image. We'll use NumPy for this task:"
   ]
  },
  {
   "cell_type": "code",
   "execution_count": null,
   "id": "989924c9-35cd-46cc-ac27-d234cb3ca94a",
   "metadata": {},
   "outputs": [],
   "source": [
    "import numpy as np\n",
    "\n",
    "# Define a 3x3 grayscale image as a matrix (for visualization)\n",
    "image_matrix = np.array([\n",
    "    [0, 127, 255],  # Top row: black, gray, white\n",
    "    [255, 127, 0],  # Middle row: white, gray, black\n",
    "    [50, 150, 200]  # Bottom row: dark gray, light gray, very light gray\n",
    "])\n",
    "\n",
    "# Flatten the 3x3 matrix to a 9-dimensional vector\n",
    "image_vector = image_matrix.flatten()\n",
    "\n",
    "print(\"Image Matrix:\\n\", image_matrix)\n",
    "print(\"Flattened Image Vector:\\n\", image_vector)"
   ]
  },
  {
   "cell_type": "markdown",
   "id": "731791b5-7324-454b-a3de-996a033b6318",
   "metadata": {},
   "source": [
    "---------------"
   ]
  },
  {
   "cell_type": "markdown",
   "id": "8fe7e66b-1db0-4cce-90c1-5b55d6259082",
   "metadata": {},
   "source": [
    "# 2. Inner Product and Similarity\n",
    "\n",
    "## Understand the Concept\n",
    "\n",
    "The inner product (or dot product) of two vectors is calculated as the sum of the products of their corresponding components. For vectors aa and bb, the inner product is a⋅b=∑aibia⋅b=∑ai​bi​.\n",
    "\n",
    "A higher inner product indicates a greater similarity, especially in the context of normalized vectors, where it essentially measures the cosine of the angle between them.\n",
    "\n",
    "## Represent Features as Vectors\n",
    "\n",
    "Consider two vectors representing features extracted from images, such as pixel intensity averages over certain areas, or perhaps more abstract features extracted via a process like Principal Component Analysis (PCA).\n",
    "\n",
    "## Interpretation of the Inner Product Value\n",
    "\n",
    "### Without Normalization\n",
    "\n",
    "If you don't normalize the vectors before computing their inner product, the resulting value combines information about both the direction and the magnitude of the vectors. Here's how to interpret the inner product in this case:\n",
    "\n",
    "- **Magnitude and Direction:** The inner product without normalization reflects not only how aligned the two vectors are (their directionality) but also how large they are (their magnitude). A higher inner product could mean that the vectors are either very well aligned, very large in magnitude, or both.\n",
    "\n",
    "- **Scale Dependency:** Without normalization, the scale of the features becomes a factor in the similarity measure. For example, if one image has pixel values that are generally twice as large as those in another image (perhaps due to differences in lighting or exposure), their inner product might be large even if the images are not visually similar.\n",
    "\n",
    "- **Interpretation Challenges:** Interpreting the inner product of non-normalized vectors in terms of image similarity is more challenging because it's affected by the scale of the data. Two images might have a high inner product due to one image having overall higher intensity values, rather than because they share similar content.\n",
    "\n",
    "### With Normalization\n",
    "\n",
    "- **Directional Similarity:** Normalize the vectors to unit length before computing the inner product if you're interested in comparing the directionality of the feature vectors, which is often the case in similarity measurements. This approach, yielding the cosine similarity, is particularly useful in comparing text documents, image content, and other data where the orientation of the vectors in space is more informative than their magnitude.\n",
    "\n",
    "- **Understanding Cosine Similarity:** Cosine similarity ranges from -1 to 1\n",
    "\n",
    "    - A value of 1 means the vectors are identical in orientation (though not necessarily in magnitude if not normalized).\n",
    "    - A value of 0 indicates orthogonality, meaning there is no similarity between the vectors.\n",
    "    - A value of -1 would indicate that the vectors are diametrically opposed, but this is less common in feature similarity contexts."
   ]
  },
  {
   "cell_type": "markdown",
   "id": "36c5f03d-9701-4965-9ba3-ac12d882c109",
   "metadata": {},
   "source": [
    "## Example (Without Normalization): The average color intensities of two images\n",
    "\n",
    "Compute the inner product of two hypothetical feature vectors using NumPy. These vectors might represent, for example, the average color intensities across three color channels (RGB) of two different images:"
   ]
  },
  {
   "cell_type": "code",
   "execution_count": null,
   "id": "9f2cd1f6-ef56-41ff-9cc2-4a7f791a0b4b",
   "metadata": {},
   "outputs": [],
   "source": [
    "import numpy as np\n",
    "\n",
    "# Define two feature vectors (hypothetical examples)\n",
    "vector_a = np.array([50, 100, 150])  # Features from Image 1\n",
    "vector_b = np.array([45, 105, 145])  # Features from Image 2\n",
    "\n",
    "# Compute the inner product\n",
    "inner_product = np.dot(vector_a, vector_b)\n",
    "\n",
    "print(\"Inner Product:\", inner_product)"
   ]
  },
  {
   "cell_type": "markdown",
   "id": "f8ccfa1c-e548-4ae8-aae1-6df7948a772c",
   "metadata": {},
   "source": [
    "## Example (With Normalization): Comparing Document Similarity Using Normalized Inner Product\n",
    "\n",
    "Objective:\n",
    "\n",
    "Demonstrate how to compare the similarity between two text documents using the normalized inner product (cosine similarity) of their vector representations. By normalizing the vectors, we ensure that the similarity measure reflects the similarity in content regardless of the length of the documents, focusing purely on the direction in which the vectors point in the multidimensional space.\n",
    "\n",
    "\n",
    "Implementation:\n",
    "\n",
    "1. Vector Representation of Text\n",
    "\n",
    "    First, represent two simple text documents as vectors. For simplicity, let's use binary presence (0 or 1) to indicate the absence or presence of certain words.\n",
    "\n",
    "        Document 1: \"Data science is fascinating.\"\n",
    "        Document 2: \"Science is a fascinating subject.\"\n",
    "        \n",
    "\n",
    "    Our vocabulary consists of the words [\"data\", \"science\", \"is\", \"fascinating\", \"a\", \"subject\"]. The vector representation of each document based on this vocabulary would be:\n",
    "\n",
    "        Vector A (Doc 1): [1, 1, 1, 1, 0, 0]\n",
    "        Vector B (Doc 2): [0, 1, 1, 1, 1, 1]\n",
    "        \n",
    "\n",
    "2. Normalization of Vectors\n",
    "\n",
    "    Normalize these vectors to have a unit length. The normalization of a vector x is done by dividing each component of x by its magnitude ∣∣x∣∣.\n",
    "\n",
    "\n",
    "3. Compute Cosine Similarity\n",
    "\n",
    "    Compute the cosine similarity between the two normalized vectors. Cosine similarity is the dot product of the normalized vectors, which can be calculated directly using NumPy's dot function since the vectors are already normalized."
   ]
  },
  {
   "cell_type": "code",
   "execution_count": null,
   "id": "814efa50-4b94-412e-bb2f-6c7a679fee23",
   "metadata": {},
   "outputs": [],
   "source": [
    "import numpy as np\n",
    "\n",
    "vector_a = np.array([1, 1, 1, 1, 0, 0])\n",
    "vector_b = np.array([0, 1, 1, 1, 1, 1])\n",
    "\n",
    "norm_a = vector_a / np.linalg.norm(vector_a)\n",
    "norm_b = vector_b / np.linalg.norm(vector_b)\n",
    "\n",
    "cosine_similarity = np.dot(norm_a, norm_b)\n",
    "print(\"Cosine Similarity:\", cosine_similarity)"
   ]
  },
  {
   "cell_type": "markdown",
   "id": "2a133246-961b-49e5-8b71-df063da35b6e",
   "metadata": {},
   "source": [
    "---------------"
   ]
  },
  {
   "cell_type": "markdown",
   "id": "7a5ae301-c523-4733-9623-d6795b2ff3b9",
   "metadata": {},
   "source": [
    "# 3. Matrices and Data Representation\n",
    "\n",
    "Illustrate how matrices can store datasets or transform vectors.\n",
    "\n",
    "## Example: How a transformation matrix can scale a vector\n",
    "\n",
    "Implementation:\n",
    "\n",
    "**1. Define the 3D Vectors:** Suppose we have two vectors representing points or features in 3D space. We'll scale these vectors to see how their positions change.\n",
    "\n",
    "**2. Define the Scaling Matrix:** A 3x3 scaling matrix allows us to scale each dimension (x, y, z) independently. \n",
    "\n",
    "**3. Perform Matrix Multiplication:** Apply the scaling matrix to the vectors."
   ]
  },
  {
   "cell_type": "code",
   "execution_count": null,
   "id": "176c15a8-8544-41c0-b1e8-b098a2c439ff",
   "metadata": {},
   "outputs": [],
   "source": [
    "import numpy as np\n",
    "\n",
    "# Define two 3D vectors\n",
    "vector_a = np.array([1, 2, 3])\n",
    "vector_b = np.array([4, 5, 6])\n",
    "\n",
    "# Define a 3x3 scaling matrix\n",
    "S = np.array([[2, 0, 0],  # Scale x by 2\n",
    "              [0, 3, 0],  # Scale y by 3\n",
    "              [0, 0, 1]]) # Scale z by 1 (unchanged)\n",
    "\n",
    "# Apply the scaling transformation\n",
    "transformed_vector_a = np.dot(S, vector_a)\n",
    "transformed_vector_b = np.dot(S, vector_b)\n",
    "\n",
    "print(\"Transformed Vector A:\", transformed_vector_a)\n",
    "print(\"Transformed Vector B:\", transformed_vector_b)"
   ]
  },
  {
   "cell_type": "markdown",
   "id": "adcfcf0f-3c3a-4fa9-a01c-6618aef1f3e7",
   "metadata": {},
   "source": [
    "### Interpreting the Results\n",
    "\n",
    "After applying the scaling matrix:\n",
    "- Vector A was initially [1, 2, 3]. After transformation, if the scaling factors are [2, 3, 1] for the [x, y, z] dimensions respectively, Vector A would scale to [2*1, 3*2, 1*3] = [2, 6, 3]. This shows that the x-component doubled, the y-component tripled, and the z-component remained unchanged.\n",
    "\n",
    "- Vector B started as [4, 5, 6]. Applying the same transformation scales it to [2*4, 3*5, 1*6] = [8, 15, 6], demonstrating a similar scaling effect according to the specified dimensions."
   ]
  },
  {
   "cell_type": "markdown",
   "id": "02833800-9094-40a3-80aa-4ee75319ce3a",
   "metadata": {},
   "source": [
    "-------------"
   ]
  },
  {
   "attachments": {
    "8e9c32ce-7ada-44f7-bfd8-32e0abfd1b4e.png": {
     "image/png": "[encoded data removed]"
    },
    "b80a36bc-749d-4fd3-b2d8-87b9cc657550.png": {
     "image/png": "[encoded data removed]"
    },
    "f7e62f24-ca49-460d-abad-b59419f0cbf8.png": {
     "image/png": "[encoded data removed]"
    }
   },
   "cell_type": "markdown",
   "id": "c3d9de8e-2576-47c6-9102-ff058e581d45",
   "metadata": {},
   "source": [
    "# 4. Matrix Multiplication and Transformations\n",
    "\n",
    "Apply a series of transformations to vectors through matrix multiplication.\n",
    "\n",
    "## Example: Rotating vectors by 45 degrees\n",
    "\n",
    "Implementation:\n",
    "\n",
    "**1. Define the Rotation Matrix:** The rotation matrix R for rotating a point in 2D space by θ degrees counterclockwise is given by:\n",
    "\n",
    "![image.png](attachment:f7e62f24-ca49-460d-abad-b59419f0cbf8.png)\n",
    "\n",
    "For a rotation of 45 degrees ![image.png](attachment:b80a36bc-749d-4fd3-b2d8-87b9cc657550.png) the matrix is:\n",
    "\n",
    "![image.png](attachment:8e9c32ce-7ada-44f7-bfd8-32e0abfd1b4e.png)\n",
    "\n",
    "**2. Define the Vectors to Transform:** Let's use the transformed vectors from the scaling exercise as our starting point. Assume those vectors were:\n",
    "\n",
    "    Vector A: [2, 6]\n",
    "    Vector B: [8, 15]\n",
    "    \n",
    "**3. Apply the Rotation Transformation:** Multiply each vector by the rotation matrix to apply the 45-degree rotation."
   ]
  },
  {
   "cell_type": "code",
   "execution_count": null,
   "id": "2a966179-b7d5-4556-8d7b-05c8f117dd2e",
   "metadata": {},
   "outputs": [],
   "source": [
    "import numpy as np\n",
    "\n",
    "theta = np.pi / 4  # 45 degrees in radians\n",
    "R = np.array([[np.cos(theta), -np.sin(theta)], \n",
    "              [np.sin(theta), np.cos(theta)]])\n",
    "\n",
    "vector_a = np.array([2, 6])\n",
    "vector_b = np.array([8, 15])\n",
    "\n",
    "rotated_vector_a = np.dot(R, vector_a)\n",
    "rotated_vector_b = np.dot(R, vector_b)\n",
    "\n",
    "print(\"Rotated Vector A:\", rotated_vector_a)\n",
    "print(\"Rotated Vector B:\", rotated_vector_b)"
   ]
  },
  {
   "cell_type": "markdown",
   "id": "5bda4784-793f-4f79-a1e8-5e266bd8b757",
   "metadata": {},
   "source": [
    "### Interpret the Results\n",
    "\n",
    "The rotated vectors, `rotated_vector_a` and `rotated_vector_b`, represent the original vectors after being rotated by 45 degrees counterclockwise around the origin. This rotation changes their direction but maintains their magnitude (length). The exact values of the rotated vectors depend on the original vectors and the rotation angle.\n",
    "\n",
    "- `Vector A`'s new position shows how it has been pivoted from its original orientation in space, yet its distance from the origin remains the same.\n",
    "- `Vector B` undergoes a similar transformation, showcasing the rotation's effect on its orientation while preserving its length."
   ]
  },
  {
   "cell_type": "markdown",
   "id": "c6af98a9-50c1-4faf-9141-60f23cf0e9d2",
   "metadata": {},
   "source": [
    "------------"
   ]
  },
  {
   "attachments": {
    "15533e5f-3203-4a3a-a8d5-3ff2ef337eb6.png": {
     "image/png": "[encoded data removed]"
    },
    "862e9ee2-9442-4485-900f-d8e05c6bd873.png": {
     "image/png": "[encoded data removed]"
    },
    "9abf02fd-308b-4682-b041-bca14e604ed3.png": {
     "image/png": "[encoded data removed]"
    }
   },
   "cell_type": "markdown",
   "id": "09b88ebb-adae-4ca1-89fc-5b51f5e20ff1",
   "metadata": {},
   "source": [
    "# 5. Matrix Inversion\n",
    "\n",
    "Matrix inversion is a critical operation in linear algebra that involves finding a matrix, called the inverse, that, when multiplied with the original matrix, yields the identity matrix.\n",
    "- The identity matrix is a special type of diagonal matrix where all the elements on the main diagonal are `1s`, and all other elements are `0s`.\n",
    "- Matrix inversion is widely used in solving systems of linear equations, in algorithms for digital signal processing, and in computer graphics for transformations.\n",
    "\n",
    "Implementation:\n",
    "\n",
    "**1. Create a Square Matrix:** Creating a 3x3 square matrix, which could represent a system of linear equations or a transformation in 3D space.\n",
    "\n",
    "**2. Calculate the Inverse of the Matrix:** We calculate the inverse of matrix ![image.png](attachment:862e9ee2-9442-4485-900f-d8e05c6bd873.png) using NumPy's `np.linalg.inv()` function.\n",
    "\n",
    "**3. Multiply the Matrix by Its Inverse:** To verify that ![image.png](attachment:15533e5f-3203-4a3a-a8d5-3ff2ef337eb6.png) is indeed the inverse of ![image.png](attachment:862e9ee2-9442-4485-900f-d8e05c6bd873.png), we multiply ![image.png](attachment:9abf02fd-308b-4682-b041-bca14e604ed3.png) by ![image.png](attachment:15533e5f-3203-4a3a-a8d5-3ff2ef337eb6.png) and check if the result is the identity matrix."
   ]
  },
  {
   "cell_type": "code",
   "execution_count": null,
   "id": "164b2796-4408-4a00-9aea-e11bd4e9d029",
   "metadata": {},
   "outputs": [],
   "source": [
    "import numpy as np\n",
    "\n",
    "# Define a 3x3 square matrix\n",
    "A = np.array([[4, 7, 2],\n",
    "              [-3, 6, 3],\n",
    "              [8, 1, -1]])\n",
    "\n",
    "# Calculate the inverse of A\n",
    "A_inv = np.linalg.inv(A)\n",
    "\n",
    "# Multiply A by its inverse\n",
    "identity_matrix = np.dot(A, A_inv)\n",
    "\n",
    "\n",
    "# Manually print each element in the desired format\n",
    "print(\"Result of A multiplied by its Inverse:\")\n",
    "for row in identity_matrix:\n",
    "    formatted_row = [\"{:.1f}\".format(elem) for elem in row]\n",
    "    print(\"[\", \" \".join(formatted_row), \"]\")"
   ]
  },
  {
   "attachments": {
    "01b1bcf3-aba2-4ef3-8114-0aade8bcdeea.png": {
     "image/png": "[encoded data removed]"
    },
    "f97d4b64-cb43-4411-a9ed-667327aad076.png": {
     "image/png": "[encoded data removed]"
    }
   },
   "cell_type": "markdown",
   "id": "4aa7e6c4-f369-4862-8671-9482b99a3eb1",
   "metadata": {},
   "source": [
    "### Interpret the Results\n",
    "\n",
    "After multiplying ![image.png](attachment:01b1bcf3-aba2-4ef3-8114-0aade8bcdeea.png) by ![image.png](attachment:f97d4b64-cb43-4411-a9ed-667327aad076.png), the resulting matrix should be very close to the identity matrix, with slight deviations possible due to floating-point arithmetic inaccuracies."
   ]
  },
  {
   "cell_type": "markdown",
   "id": "83d3a497-acf3-4d22-8595-e86e710b0654",
   "metadata": {},
   "source": [
    "----------------"
   ]
  },
  {
   "attachments": {
    "6742f1a6-08e9-4be6-ab6a-febf51725161.png": {
     "image/png": "[encoded data removed]"
    },
    "6c7b3fbd-fba9-4237-a0b7-1c24543f54d1.png": {
     "image/png": "[encoded data removed]"
    },
    "ccd2e3ad-ce14-46f5-99e4-029a4fc10f55.png": {
     "image/png": "[encoded data removed]"
    }
   },
   "cell_type": "markdown",
   "id": "cf560256-356c-4804-9f49-987a66b3b693",
   "metadata": {},
   "source": [
    "# 6. Determinant and Volume Scaling\n",
    "\n",
    "\n",
    "The determinant not only quantifies the scaling effect on area or volume but also gives insights into changes in orientation.\n",
    "\n",
    "Implementation:\n",
    "\n",
    "**1. Define the Transformation Matrix:** Suppose the transformation matrix T is\n",
    "\n",
    "![image.png](attachment:ccd2e3ad-ce14-46f5-99e4-029a4fc10f55.png)\n",
    "\n",
    "This matrix scales the x-dimension by a factor of 2 and the y-dimension by a factor of 3.\n",
    "\n",
    "**2: Calculate the Determinant:** The determinant of a 2x2 matrix ![image.png](attachment:6742f1a6-08e9-4be6-ab6a-febf51725161.png) is computed as `ad−bc`. For matrix T, the determinant is:\n",
    "\n",
    "![image.png](attachment:6c7b3fbd-fba9-4237-a0b7-1c24543f54d1.png)"
   ]
  },
  {
   "cell_type": "code",
   "execution_count": null,
   "id": "dee4e8f8-02a2-4367-a90c-86a7a096648c",
   "metadata": {},
   "outputs": [],
   "source": [
    "import numpy as np\n",
    "\n",
    "T = np.array([[2, 0],\n",
    "              [0, 3]])\n",
    "det_T = np.linalg.det(T)\n",
    "print(f\"Determinant of T: {det_T:.2f}\")"
   ]
  },
  {
   "cell_type": "markdown",
   "id": "fd21d48e-db05-4139-a87d-c10573d682f8",
   "metadata": {},
   "source": [
    "### Interpret the Results\n",
    "\n",
    "The determinant of matrix T is 6, which tells us about the scaling effect of the transformation on the area (in 2D) or volume (in higher dimensions) of geometric shapes. Specifically:\n",
    "\n",
    "- **Volume Scaling Factor:** The absolute value of the determinant (6 in this case) indicates how much the area or volume of a shape is scaled when the transformation is applied. For this matrix, any area in the 2D plane is scaled by a factor of 6. If you apply this transformation to a unit square (area = 1), the resulting shape would have an area of 6, reflecting the combined scaling effects in both dimensions.\n",
    "\n",
    "- **Orientation Change:** Since the determinant is positive, the transformation preserves the orientation of shapes. A negative determinant would indicate a reflection, causing a change in orientation."
   ]
  },
  {
   "cell_type": "markdown",
   "id": "a2166aab-27d5-4aef-ab98-41ebf2f445f2",
   "metadata": {},
   "source": [
    "-------------"
   ]
  },
  {
   "attachments": {
    "840a148a-1667-45b4-a3cc-0405279f3d06.png": {
     "image/png": "[encoded data removed]"
    },
    "d3fe332b-609a-49ef-83aa-0fa65abbe99f.png": {
     "image/png": "[encoded data removed]"
    },
    "eb81792d-13a6-4ce8-804d-f4d5f01576f9.png": {
     "image/png": "[encoded data removed]"
    }
   },
   "cell_type": "markdown",
   "id": "fa0b7f9f-6bf3-422f-8979-7d717d1167a1",
   "metadata": {},
   "source": [
    "# 7. Trace and Invariance\n",
    "\n",
    "\n",
    "The trace of a square matrix is the sum of its diagonal elements. It's an important property because it remains invariant under a change of basis, meaning that the trace of a matrix is the same no matter what basis we use to represent the matrix.\n",
    "\n",
    "**Calculate the Trace of a Transformation Matrix**\n",
    "\n",
    "\n",
    "We have matrix T as below:\n",
    "\n",
    "![image.png](attachment:eb81792d-13a6-4ce8-804d-f4d5f01576f9.png)\n",
    "\n",
    "And a 3x3 rotation matrix R might look something like this:\n",
    "\n",
    "![image.png](attachment:d3fe332b-609a-49ef-83aa-0fa65abbe99f.png)\n",
    "\n",
    "where θ is the angle of rotation. Let's assume ![image.png](attachment:840a148a-1667-45b4-a3cc-0405279f3d06.png) (or π/4 radians)."
   ]
  },
  {
   "cell_type": "code",
   "execution_count": null,
   "id": "180cc46d-b8c8-46ac-9978-6f263ded8175",
   "metadata": {},
   "outputs": [],
   "source": [
    "import numpy as np\n",
    "\n",
    "T = np.array([[2, 0], [0, 3]])\n",
    "R = np.array([[np.cos(np.pi/4), -np.sin(np.pi/4), 0], \n",
    "              [np.sin(np.pi/4), np.cos(np.pi/4), 0], \n",
    "              [0, 0, 1]])\n",
    "\n",
    "trace_T = np.trace(T)\n",
    "trace_R = np.trace(R)\n",
    "\n",
    "print(f\"Trace of T: {trace_T}\")\n",
    "print(f\"Trace of R: {trace_R:.2f}\")"
   ]
  },
  {
   "attachments": {
    "09439dd0-dfcc-4c52-9faa-73e5a42f15bb.png": {
     "image/png": "[encoded data removed]"
    },
    "e156c7b1-0153-450f-bd1d-f7a31cde7236.png": {
     "image/png": "[encoded data removed]"
    },
    "e217bdcd-e4f4-4025-8a0d-dbb958cc4bfd.png": {
     "image/png": "[encoded data removed]"
    }
   },
   "cell_type": "markdown",
   "id": "c9eaa0b9-fda9-45ac-84f0-e0f54e19e895",
   "metadata": {},
   "source": [
    "### Interpret the Results\n",
    "\n",
    "- **Trace of \\(T\\)**: The trace of the scaling matrix \\(T\\) is \\(2 + 3 = 5\\). This represents the sum of the scaling factors applied to the x and y dimensions, which is a simple sum in this case because it's a diagonal matrix.\n",
    "- **Trace of \\(R\\)**: The trace of the rotation matrix \\(R\\), assuming ![image.png](attachment:e156c7b1-0153-450f-bd1d-f7a31cde7236.png), involves the sum of the cosines along the diagonal, plus 1 for the z-component (unchanged in this rotation). Given that ![image.png](attachment:09439dd0-dfcc-4c52-9faa-73e5a42f15bb.png), the trace is approximately ![image.png](attachment:e217bdcd-e4f4-4025-8a0d-dbb958cc4bfd.png)."
   ]
  },
  {
   "cell_type": "markdown",
   "id": "05df4360-91c7-4e22-aa8e-6cb3b873f5fe",
   "metadata": {},
   "source": [
    "-------------"
   ]
  },
  {
   "cell_type": "markdown",
   "id": "23846e69-5ec9-43a9-b089-aad34cefc2ff",
   "metadata": {},
   "source": [
    "# 8. Diagonal Matrices and Scaling\n",
    "\n",
    "The diagonal scaling matrix has effectively scaled the original vectors, altering their magnitude according to the scaling factors specified in the matrix. This transformation demonstrates how diagonal matrices can apply uniform scaling to vectors, affecting each component by a different factor without changing the vectors' directions.\n",
    "\n",
    "In practical applications, such scaling is crucial in data preprocessing for machine learning, where feature vectors might need to be normalized or adjusted in magnitude, and in computer graphics, where objects in a scene are scaled to achieve the desired visual proportions.\n",
    "\n",
    "Implementation:\n",
    "\n",
    "**1. Define Original Vectors**\n",
    "\n",
    "**2. Create a Diagonal Scaling Matrix:** A diagonal matrix for scaling will have scaling factors as its diagonal elements.\n",
    "\n",
    "**3. Apply the Scaling Transformation:** Multiply the original vectors by the scaling matrix to apply the transformation.\n",
    "\n",
    "**4. Show Before and After, and Explain the Effect**"
   ]
  },
  {
   "cell_type": "code",
   "execution_count": null,
   "id": "02d12b74-d8ea-4e13-92e5-93e648f49d61",
   "metadata": {},
   "outputs": [],
   "source": [
    "import numpy as np\n",
    "\n",
    "vector_a = np.array([1, 2])\n",
    "vector_b = np.array([3, 4])\n",
    "\n",
    "scaling_matrix = np.array([[2, 0],\n",
    "                           [0, 3]])\n",
    "\n",
    "scaled_vector_a = np.dot(scaling_matrix, vector_a)\n",
    "scaled_vector_b = np.dot(scaling_matrix, vector_b)\n",
    "\n",
    "print(\"Original Vector A:\", vector_a)\n",
    "print(\"Scaled Vector A:\", scaled_vector_a)\n",
    "print(\"\\nOriginal Vector B:\", vector_b)\n",
    "print(\"Scaled Vector B:\", scaled_vector_b)"
   ]
  },
  {
   "cell_type": "markdown",
   "id": "0f14e7ee-50d7-4a4a-bc07-5e2da39bcb95",
   "metadata": {},
   "source": [
    "### Interpretation of the Results\n",
    "\n",
    "- Before Scaling:\n",
    "    - Vector A is [1, 2].\n",
    "    - Vector B is [3, 4].\n",
    "- After Scaling:\n",
    "    - Vector A becomes [2, 6], where the first component has been doubled and the second tripled, as per the scaling matrix.\n",
    "    - Vector B transforms into [6, 12], showing the same scaling effect."
   ]
  },
  {
   "cell_type": "markdown",
   "id": "dafa6cfc-fbfd-4c66-84d7-97c38352234e",
   "metadata": {},
   "source": [
    "------------"
   ]
  },
  {
   "cell_type": "markdown",
   "id": "a172de4b-8c72-4172-a021-747650fbb947",
   "metadata": {},
   "source": [
    "# 9. Norms of Vectors\n",
    "\n",
    "The L1 and L2 norms offer different perspectives on a vector's magnitude.\n",
    "- The L1 norm is useful for emphasizing sparsity and is less sensitive to outliers than the L2 norm.\n",
    "- In contrast, the L2 norm is more sensitive to changes in high values due to the squaring of components, providing the geometric length of the vector.\n",
    "\n",
    "Understanding these differences is crucial for applications like feature selection, where the choice of norm can significantly impact model performance and interpretation.\n",
    "\n",
    "Implementation:\n",
    "\n",
    "**1. Define the Vector**\n",
    "\n",
    "**2. Calculate the L1 Norm:** The L1 norm (also known as the Manhattan norm) is the sum of the absolute values of the vector components.\n",
    "\n",
    "**3. Calculate the L2 Norm:** The L2 norm (also known as the Euclidean norm) is the square root of the sum of the squares of the vector components. It represents the \"straight-line\" distance from the origin to the point in space defined by the vector."
   ]
  },
  {
   "cell_type": "code",
   "execution_count": null,
   "id": "5c05667e-154d-4048-9775-9a65906439e8",
   "metadata": {},
   "outputs": [],
   "source": [
    "import numpy as np\n",
    "\n",
    "v = np.array([3, -4, 5])\n",
    "\n",
    "l1_norm = np.sum(np.abs(v))\n",
    "\n",
    "l2_norm = np.sqrt(np.sum(np.square(v)))\n",
    "\n",
    "print(\"Vector v:\", v)\n",
    "print(\"L1 Norm of v:\", l1_norm)\n",
    "print(\"L2 Norm of v:\", l2_norm)"
   ]
  },
  {
   "cell_type": "markdown",
   "id": "a310f036-1eb7-4ab1-ac75-9ab666713584",
   "metadata": {},
   "source": [
    "### Interpretation of the Results\n",
    "\n",
    "- L1 Norm: The L1 norm sums the absolute values, treating all dimensions equally but independently. It is 12 for the vector v, indicating the total \"city block\" distance it spans across all dimensions.\n",
    "- L2 Norm: The L2 norm, 7.07 for vector v, represents the direct distance from the origin to the point in space defined by v. It's influenced more by larger values due to the squaring operation."
   ]
  },
  {
   "cell_type": "markdown",
   "id": "7bd2e670-e8db-4780-be14-13dc6546922f",
   "metadata": {},
   "source": [
    "------------"
   ]
  },
  {
   "cell_type": "markdown",
   "id": "758ce646-3cfd-46be-9a5f-ea0f478e1dbc",
   "metadata": {},
   "source": [
    "1\\. Vectors\n",
    "===========\n",
    "\n",
    "*   **Explanation**: Describe vectors as a way to represent data in multi-dimensional space, where each dimension can correspond to a different feature or characteristic of the data. For example, in computer vision, a vector could represent the pixel values of an image.\n",
    "    \n",
    "*   **Application**: Explain how vectors are crucial in algorithms for image recognition, where the direction and magnitude can help in understanding patterns or in machine learning models for classifying images.\n",
    "    \n",
    "\n",
    "**Example: Facial Recognition**\n",
    "\n",
    "*   In facial recognition technology, images of faces are often represented as high-dimensional vectors. Each image can be thought of as a point in a multi-dimensional space, where each dimension corresponds to the pixel intensity in different parts of the image. Here's how vectors play a crucial role:\n",
    "    \n",
    "\n",
    "1.  **Image Representation**: Consider an image of a face that is converted into grayscale for simplicity. Each pixel in this image can be represented by a value between 0 and 255, indicating how light or dark that pixel is. For a 100x100 pixel image, this results in a 10,000-dimensional vector where each element of the vector represents the intensity of one pixel.\n",
    "    \n",
    "2.  **Feature Extraction**: Instead of using raw pixel values, which are highly dimensional and sensitive to variations in light, pose, or expression, more sophisticated methods extract features that represent unique aspects of the face. Techniques like Principal Component Analysis (PCA) or Convolutional Neural Networks (CNNs) can be used to reduce dimensionality and extract meaningful features, such as edges, contours, and specific landmarks (eyes, nose, mouth position). These features can be represented as vectors in a lower-dimensional space.\n",
    "    \n",
    "3.  **Comparison and Classification**: When recognizing or verifying faces, the similarity between feature vectors is measured. This is often done using the inner product or cosine similarity to compare the angle between two vectors, indicating how similar two faces are. For instance, in a simple facial recognition algorithm, the system may have a database of known faces, each represented by a feature vector. When a new image is presented to the system, it is converted into a feature vector using the same method. The system then compares this vector to the vectors in its database using the dot product to find the most similar face.\n",
    "    \n",
    "4.  **Real-World Application**: This approach is widely used in various applications, from unlocking smartphones with facial recognition to security systems that allow access based on facial identity. In these cases, understanding and manipulating vectors is fundamental to the process of recognizing and differentiating faces.\n",
    "    \n",
    "\n",
    "By representing images as vectors and applying linear algebra operations, computer vision systems can efficiently process, analyze, and classify images in ways that mimic human visual recognition but on a much larger and faster scale. This example illustrates the power of vectors in transforming raw data into actionable insights, a principle that lies at the heart of computer vision technology.\n",
    "\n",
    "**Example: how vectors and related concepts are applied in image classification, specifically in recognizing handwritten digits**\n",
    "\n",
    "*   Let's take a detailed step-by-step look at a real-world example of how vectors and related concepts are applied in image classification, specifically in recognizing handwritten digits using a machine learning model like a Convolutional Neural Network (CNN). This process involves several steps where vectors, matrices, and other linear algebra concepts play essential roles.\n",
    "    \n",
    "\n",
    "**Step 1: Image Representation as Vectors**\n",
    "\n",
    "*   **Concept**: Vectors and Matrices\n",
    "    \n",
    "*   **Explanation**: Each image of a handwritten digit (e.g., from the MNIST dataset, a popular benchmark in machine learning) is represented as a 2D matrix of pixel values. For simplicity, assume each image is 28x28 pixels, and each pixel's intensity is represented by a value (0-255 for grayscale images). This matrix can also be flattened into a 784-dimensional vector (28x28), where each element of the vector represents the intensity of one pixel.\n",
    "    \n",
    "\n",
    "**Step 2: Applying Filters and Feature Detection**\n",
    "\n",
    "*   **Concept**: Matrix Multiplication and Convolution\n",
    "    \n",
    "*   **Explanation**: In the preprocessing or initial layers of a CNN, filters (small matrices) are applied to the input image to detect features such as edges, corners, or textures. This is achieved through convolution operations, which involve matrix multiplication between the filter and local regions of the image matrix. The result is a feature map that highlights specific patterns in the image.\n",
    "    \n",
    "\n",
    "**Step 3: Non-linear Activation**\n",
    "\n",
    "*   **Concept**: Function Application\n",
    "    \n",
    "*   **Explanation**: After convolution, a non-linear activation function, such as ReLU (Rectified Linear Unit), is applied element-wise to the feature map. This step introduces non-linearity, allowing the network to learn complex patterns. It's akin to applying a function to each element of the resulting vector from the convolution operation, enhancing the network's representational power.\n",
    "    \n",
    "\n",
    "**Step 4: Pooling to Reduce Dimensionality**\n",
    "\n",
    "*   **Concept**: Norm and Dimension Reduction\n",
    "    \n",
    "*   **Explanation**: Pooling layers reduce the dimensionality of the feature maps to decrease computational complexity and overfitting. Max pooling, for example, involves taking the maximum value in a local region of the feature map. This can be seen as selecting the strongest feature (or highest vector norm within a subset) in each region, effectively compressing the data while preserving essential information.\n",
    "    \n",
    "\n",
    "**Step 5: Flattening and Fully Connected Layers**\n",
    "\n",
    "*   **Concept**: Vectors and Matrix Multiplication\n",
    "    \n",
    "*   **Explanation**: After several convolution and pooling layers, the feature maps are flattened into a vector and fed into fully connected layers (traditional neural network layers). Here, each neuron's output is a weighted sum (matrix-vector multiplication) of inputs, followed by an activation function. This stage combines all learned features to make predictions.\n",
    "    \n",
    "\n",
    "**Step 6: Output and Classification**\n",
    "\n",
    "*   **Concept**: Dot Product and Softmax\n",
    "    \n",
    "*   **Explanation**: The final layer of a CNN often uses the softmax function to classify the input image into one of several categories (e.g., digits 0-9). The softmax function takes the vector of raw class scores (output from the last fully connected layer) and turns it into probabilities by comparing the exponential of each score (making the scores non-negative and allowing them to sum to one).\n",
    "    \n",
    "\n",
    "**Real-World Application: Digit Recognition**\n",
    "\n",
    "Imagine using this CNN to sort handwritten digits on envelopes for automatic mail sorting. The process involves capturing an image of the digit, preprocessing it, extracting and classifying features through the CNN, and finally determining the digit's identity with high accuracy. This automated process significantly speeds up mail sorting, reduces errors, and showcases the power of applying linear algebra concepts in practical computer vision tasks.\n",
    "\n",
    "To implement a Convolutional Neural Network (CNN) for recognizing handwritten digits, like those in the MNIST dataset, you can use a popular deep learning library such as TensorFlow with Keras. Here's a step-by-step guide to building and training a simple CNN model for this task.\n",
    "\n",
    "**Step 1: Setup Your Environment**\n",
    "\n",
    "First, ensure you have Python installed on your system. Then, install TensorFlow, which includes Keras, by running:\n",
    "\n",
    "`pip install tensorflow`\n",
    "\n",
    "**Step 2: Load the MNIST Dataset**\n",
    "\n",
    "TensorFlow makes it easy to load the MNIST dataset with a built-in function:\n",
    "\n",
    "\n",
    "\n",
    "**Step 3: Preprocess the Data**\n",
    "\n",
    "Preprocess the images by normalizing the pixel values and reshaping the data to fit the model input:\n",
    "\n",
    "**Step 4: Build the CNN Model**\n",
    "\n",
    "Create your CNN model using Keras:\n",
    "\n",
    "**Step 5: Compile the Model**\n",
    "\n",
    "Compile the model with an optimizer and loss function:\n",
    "\n",
    "**Step 6: Train the Model**\n",
    "\n",
    "Train the model using the training data:\n",
    "\n",
    "**Step 7: Evaluate the Model**\n",
    "\n",
    "Finally, evaluate the model's performance on the test dataset:\n",
    "\n",
    "This example builds a simple CNN with two convolutional layers followed by max-pooling layers, a flattening step, and two dense layers. The final layer uses a softmax activation function to output a probability distribution over the 10 digit classes. By adjusting the number of layers, layer sizes, and epochs, you can experiment to improve accuracy.\n",
    "\n",
    "Remember, deep learning and machine learning are iterative processes where experimentation and refinement are key to achieving high performance."
   ]
  },
  {
   "cell_type": "code",
   "execution_count": null,
   "id": "f755c540-daec-4f9f-a22e-4e40b1d91527",
   "metadata": {},
   "outputs": [],
   "source": [
    "!conda install tensorflow -y\n",
    "\n",
    "\n",
    "# Import necessary libraries\n",
    "from tensorflow.keras.datasets import mnist\n",
    "from tensorflow.keras.utils import to_categorical\n",
    "from tensorflow.keras import layers, models\n",
    "\n",
    "# Load the MNIST dataset\n",
    "(train_images, train_labels), (test_images, test_labels) = mnist.load_data()\n",
    "\n",
    "# Reshape and normalize the image data\n",
    "train_images = train_images.reshape((60000, 28, 28, 1)).astype('float32') / 255\n",
    "test_images = test_images.reshape((10000, 28, 28, 1)).astype('float32') / 255\n",
    "\n",
    "# Convert labels to one-hot encoding\n",
    "train_labels = to_categorical(train_labels)\n",
    "test_labels = to_categorical(test_labels)\n",
    "\n",
    "# Define the CNN model architecture\n",
    "model = models.Sequential()\n",
    "model.add(layers.Conv2D(32, (3, 3), activation='relu', input_shape=(28, 28, 1)))\n",
    "model.add(layers.MaxPooling2D((2, 2)))\n",
    "model.add(layers.Conv2D(64, (3, 3), activation='relu'))\n",
    "model.add(layers.MaxPooling2D((2, 2)))\n",
    "model.add(layers.Conv2D(64, (3, 3), activation='relu'))\n",
    "\n",
    "# Adding a fully connected layer\n",
    "model.add(layers.Flatten())\n",
    "model.add(layers.Dense(64, activation='relu'))\n",
    "model.add(layers.Dense(10, activation='softmax'))\n",
    "\n",
    "# Compile the model\n",
    "model.compile(optimizer='adam',\n",
    "              loss='categorical_crossentropy',\n",
    "              metrics=['accuracy'])\n",
    "\n",
    "# Train the model\n",
    "model.fit(train_images, train_labels, epochs=5, batch_size=64)\n",
    "\n",
    "# Evaluate the model on test data\n",
    "test_loss, test_acc = model.evaluate(test_images, test_labels)\n",
    "print(f\"Test accuracy: {test_acc}\")"
   ]
  },
  {
   "cell_type": "markdown",
   "id": "ed2592d1-e404-4c38-8198-d6f476a0dfd6",
   "metadata": {},
   "source": [
    "---------------------"
   ]
  },
  {
   "cell_type": "markdown",
   "id": "129787da-1bdb-478b-a1fc-2e2ed26db590",
   "metadata": {},
   "source": [
    "2\\. Inner Product (Dot Product)\n",
    "===============================\n",
    "\n",
    "*   **Explanation**: Explain the inner product as a mathematical operation that measures the similarity between two vectors. It projects one vector onto another to see how much one vector is in the direction of another.\n",
    "    \n",
    "*   **Application**: Discuss its use in calculating the cosine similarity between vectors, which is essential in machine learning for tasks such as identifying similar images or documents.\n",
    "    \n",
    "\n",
    "**Real-World Example: Movie Recommendation System**\n",
    "\n",
    "Imagine a movie recommendation system that suggests movies to users based on their rating history. Each user's ratings for a set of movies can be represented as a vector, where each element of the vector corresponds to a rating for a specific movie. For simplicity, let's consider a scenario with only three movies.\n",
    "\n",
    "*   **User A's ratings**: \\[4, 5, 3\\] for Movies 1, 2, and 3 respectively.\n",
    "    \n",
    "*   **User B's ratings**: \\[5, 4, 1\\] for Movies 1, 2, and 3 respectively.\n",
    "    \n",
    "\n",
    "These vectors represent each user's taste in movies. To recommend new movies to User A, the system can look for other users with similar tastes and suggest movies that those users rated highly but User A hasn't watched yet.\n",
    "\n",
    "**Calculating Similarity with Inner Product**\n",
    "\n",
    "The inner product of User A's and User B's rating vectors can be calculated as follows:\n",
    "\n",
    "{Similarity} = (4 \\* 5) + (5 \\* 4) + (3 \\* 1) = 20 + 20 + 3 = 43\n",
    "\n",
    "The inner product gives us a single number that represents how aligned User A's movie ratings are with User B's ratings. The higher the number, the more similar their tastes are. This number is essentially a sum of products, where each product is the rating from User A for a movie multiplied by the rating from User B for the same movie.\n",
    "\n",
    "**Interpretation**\n",
    "\n",
    "*   **High Inner Product**: A high value indicates that both users tend to rate movies similarly, suggesting they have similar tastes. In our example, the result of 43 suggests a certain level of similarity between User A and User B, implying that they might enjoy similar movies.\n",
    "    \n",
    "*   **Direction and Magnitude**: While the inner product gives a measure of similarity, it's also influenced by the magnitude of the ratings. Users who rate movies more generously (higher numbers) could have a higher inner product with others due to the nature of the calculation.\n",
    "    \n",
    "\n",
    "**Application in Recommendation Systems**\n",
    "\n",
    "By calculating the inner product between User A's ratings vector and the ratings vectors of all other users in the database, the system can identify users with the most similar tastes. It then suggests movies that these similar users have rated highly but User A hasn't seen, leveraging the similarity measure as a basis for recommendations.\n",
    "\n",
    "This example illustrates how the inner product serves as a simple yet powerful tool to measure the similarity between vectors, enabling systems to make connections and recommendations based on patterns in multidimensional data.\n",
    "\n",
    "**Example: Document similarity, a common task in natural language processing (NLP)**\n",
    "\n",
    "Let's delve into a step-by-step real-world example of using inner product to calculate cosine similarity between vectors, focusing on document similarity, a common task in natural language processing (NLP) and information retrieval. This example will demonstrate how the inner product measures the similarity between documents, which can be used for tasks such as search engine ranking, plagiarism detection, or document clustering.\n",
    "\n",
    "**Step 1: Represent Documents as Vectors**\n",
    "\n",
    "**Objective**: Convert two text documents into vectors based on word occurrence.\n",
    "\n",
    "**Example Documents**:\n",
    "\n",
    "*   **Document 1**: \"Machine learning is fascinating.\"\n",
    "    \n",
    "*   **Document 2**: \"Learning machine concepts is enjoyable.\"\n",
    "    \n",
    "\n",
    "**Process**:\n",
    "\n",
    "1.  Create a word set from all documents. Assume our word set (vocabulary) is {\"machine\", \"learning\", \"is\", \"fascinating\", \"concepts\", \"enjoyable\"}.\n",
    "    \n",
    "2.  Convert each document into a vector where each element counts the occurrence of a word from the word set in the document.\n",
    "    \n",
    "\n",
    "**Vector Representations**:\n",
    "\n",
    "*   **Vector 1** (for Document 1): \\[1, 1, 1, 1, 0, 0\\] corresponding to each word in the set.\n",
    "    \n",
    "*   **Vector 2** (for Document 2): \\[1, 1, 1, 0, 1, 1\\]\n",
    "    \n",
    "\n",
    "**Step 2: Calculate the Inner Product**\n",
    "\n",
    "**Objective**: Measure the similarity between the two vectors using the inner product.\n",
    "\n",
    "**Calculation**:\n",
    "\n",
    "*   For **Vector 1** and **Vector 2**, the inner product is calculated as:\n",
    "    \n",
    "\n",
    "**Step 3: Calculate the Norms of the Vectors**\n",
    "\n",
    "**Objective**: To use the inner product for calculating cosine similarity, we also need the norms of the vectors.\n",
    "\n",
    "**Calculation**:\n",
    "\n",
    "*   **Norm of Vector 1**:\n",
    "    \n",
    "\n",
    "*   **Norm of Vector 2**:\n",
    "    \n",
    "\n",
    "**Step 4: Calculate Cosine Similarity**\n",
    "\n",
    "**Objective**: Use the inner product and norms to calculate the cosine similarity, which measures the cosine of the angle between the two vectors. This value ranges from -1 (completely different) to 1 (exactly the same).\n",
    "\n",
    "**Calculation**:\n",
    "\n",
    "*   Cosine **similarity** is given by the formula:\n",
    "    \n",
    "\n",
    "*   **Plugging** in our values:\n",
    "    \n",
    "\n",
    "**Step 5: Interpretation**\n",
    "\n",
    "**Outcome**: A cosine similarity score of 0.75 suggests a high degree of similarity between the two documents. Despite having different words, the presence of shared keywords such as \"machine\", \"learning\", and \"is\" contributes to their similarity.\n",
    "\n",
    "**Real-World Application**: In a search engine or document retrieval system, this method can be used to rank documents by how similar they are to a query document. Documents with higher cosine similarity scores to the query are ranked higher and are more likely to be relevant to the user's search.\n",
    "\n",
    "This example illustrates how the inner product, in conjunction with vector norms, can quantify the similarity between text documents in a meaningful way, enabling applications that require semantic understanding of document content.\n",
    "\n",
    "To implement the cosine similarity calculation between two documents as described, we'll write a Python script that follows the outlined steps. This script will:\n",
    "\n",
    "1.  Tokenize the documents into words.\n",
    "    \n",
    "2.  Create a combined word set for both documents.\n",
    "    \n",
    "3.  Convert each document into a vector based on word occurrences.\n",
    "    \n",
    "4.  Calculate the inner product (dot product) between the two vectors.\n",
    "    \n",
    "5.  Compute the norms of the vectors.\n",
    "    \n",
    "6.  Calculate the cosine similarity based on the inner product and norms.\n",
    "    \n",
    "\n",
    "**Python Implementation**\n",
    "\n",
    "from collections import Counter\n",
    "\n",
    "import math# Step 1: Define the documentsdoc1 = \"Machine learning is fascinating.\"doc2 = \"Learning machine concepts is enjoyable.\"# Step 2: Tokenize and create a combined word set# Lowercasing for consistency and splitting by spaces for simplicitywords\\_doc1 = doc1.lower().split()words\\_doc2 = doc2.lower().split()combined\\_words = list(set(words\\_doc1 + words\\_doc2))# Step 3: Create vectors based on word occurrencesvector1 = \\[words\\_doc1.count(word) for word in combined\\_words\\]vector2 = \\[words\\_doc2.count(word) for word in combined\\_words\\]# Step 4: Calculate the inner product (dot product)inner\\_product = sum(v1 \\* v2 for v1, v2 in zip(vector1, vector2))# Step 5: Calculate the norms of the vectorsnorm1 = math.sqrt(sum(v \\*\\* 2 for v in vector1))norm2 = math.sqrt(sum(v \\*\\* 2 for v in vector2))# Step 6: Calculate cosine similaritycosine\\_similarity = inner\\_product / (norm1 \\* norm2)print(\"Cosine Similarity:\", cosine\\_similarity)\n",
    "\n",
    "**Explanation**\n",
    "\n",
    "*   **Tokenization**: We split each document into words (a simple approach using split) and lowercase them to ensure consistency.\n",
    "    \n",
    "*   **Combined Word Set**: We create a set of unique words present in either document.\n",
    "    \n",
    "*   **Vector Creation**: For each document, we create a vector where each element is the count of occurrences of a word from the combined word set.\n",
    "    \n",
    "*   **Inner Product**: We calculate the sum of the products of corresponding elements in the two vectors.\n",
    "    \n",
    "*   **Norms Calculation**: The norm of a vector is calculated as the square root of the sum of the square of its elements.\n",
    "    \n",
    "*   **Cosine Similarity**: Finally, we calculate the cosine similarity by dividing the inner product by the product of the two vectors' norms.\n",
    "    \n",
    "\n",
    "This script is a basic implementation of document similarity using cosine similarity. In real-world applications, especially with larger texts and more complex needs, more sophisticated methods and optimizations might be used, such as TF-IDF (Term Frequency-Inverse Document Frequency) weighting, and leveraging libraries like NLTK or spaCy for tokenization, and scikit-learn for vectorization and cosine similarity calculations."
   ]
  }
 ],
 "metadata": {
  "kernelspec": {
   "display_name": "Python 3 (ipykernel)",
   "language": "python",
   "name": "python3"
  },
  "language_info": {
   "codemirror_mode": {
    "name": "ipython",
    "version": 3
   },
   "file_extension": ".py",
   "mimetype": "text/x-python",
   "name": "python",
   "nbconvert_exporter": "python",
   "pygments_lexer": "ipython3",
   "version": "3.11.5"
  },
  "toc-autonumbering": false,
  "toc-showcode": false,
  "toc-showtags": false
 },
 "nbformat": 4,
 "nbformat_minor": 5
}
